{
 "cells": [
  {
   "cell_type": "code",
   "execution_count": 4,
   "metadata": {
    "collapsed": false
   },
   "outputs": [],
   "source": [
    "import networkx as nx\n",
    "import matplotlib.pyplot as plt\n",
    "import numpy as np\n",
    "import re\n",
    "from graphframes import *\n",
    "from pyspark.sql import SQLContext\n",
    "from pyspark.sql.functions import *"
   ]
  },
  {
   "cell_type": "code",
   "execution_count": 5,
   "metadata": {
    "collapsed": false
   },
   "outputs": [],
   "source": [
    "sqlContext = SQLContext(sc)"
   ]
  },
  {
   "cell_type": "code",
   "execution_count": 22,
   "metadata": {
    "collapsed": false
   },
   "outputs": [
    {
     "name": "stdout",
     "output_type": "stream",
     "text": [
      "+---+\n",
      "| id|\n",
      "+---+\n",
      "|  A|\n",
      "|  I|\n",
      "|  E|\n",
      "|  H|\n",
      "|  D|\n",
      "|  C|\n",
      "|  G|\n",
      "|  J|\n",
      "|  B|\n",
      "|  F|\n",
      "+---+\n",
      "\n",
      "+---+--------------------+\n",
      "| id|   Closeness Measure|\n",
      "+---+--------------------+\n",
      "|  A| 0.05555555555555555|\n",
      "|  B|0.058823529411764705|\n",
      "|  C| 0.07142857142857142|\n",
      "|  D| 0.06666666666666667|\n",
      "|  E|0.058823529411764705|\n",
      "|  F| 0.07142857142857142|\n",
      "|  G| 0.05555555555555555|\n",
      "|  H| 0.06666666666666667|\n",
      "|  I|0.047619047619047616|\n",
      "|  J|0.034482758620689655|\n",
      "+---+--------------------+\n",
      "\n"
     ]
    }
   ],
   "source": [
    "path_to_graph='./centrality_computers.network'\n",
    "def closeness(path_to_graph):\n",
    "    with open(path_to_graph) as f:\n",
    "        lines=f.readlines()\n",
    "    #converting file to nodes and edges in rdd\n",
    "    rdd_lines= sc.parallelize(lines)\n",
    "    rdd_nodes = rdd_lines.flatMap(lambda x: re.split(' |,',x.strip())).distinct().map(lambda x: (x,))\n",
    "    rdd_edges = rdd_lines.map(lambda x: tuple(re.split(' |,',x.strip())))\n",
    "    #print rdd_edges.collect()\n",
    "    #print rdd_nodes.collect()\n",
    "    \n",
    "    #converting rdd to dataframe\n",
    "    df_nodes = sqlContext.createDataFrame(rdd_nodes, ['id'])\n",
    "    df_edges = sqlContext.createDataFrame(rdd_edges, ['src', 'dst'])\n",
    "    \n",
    "    #Initializing graphframe\n",
    "    graph = GraphFrame(df_nodes, df_edges)\n",
    "    #graph.vertices.show()\n",
    "    \n",
    "    nodes = graph.vertices.flatMap(lambda x: x).collect()\n",
    "    shortest_paths = graph.shortestPaths(landmarks=nodes)\n",
    "    #shortest_paths.show()\n",
    "    closeness_table = shortest_paths.select('id', explode('distances')).groupBy('id').agg((1.0/sum('value')).alias('Closeness Measure'))\n",
    "    closeness_table.show()\n",
    "    \n",
    "closeness(path_to_graph)"
   ]
  },
  {
   "cell_type": "code",
   "execution_count": null,
   "metadata": {
    "collapsed": true
   },
   "outputs": [],
   "source": []
  }
 ],
 "metadata": {
  "kernelspec": {
   "display_name": "Python 2",
   "language": "python",
   "name": "python2"
  },
  "language_info": {
   "codemirror_mode": {
    "name": "ipython",
    "version": 2
   },
   "file_extension": ".py",
   "mimetype": "text/x-python",
   "name": "python",
   "nbconvert_exporter": "python",
   "pygments_lexer": "ipython2",
   "version": "2.7.11"
  }
 },
 "nbformat": 4,
 "nbformat_minor": 0
}
