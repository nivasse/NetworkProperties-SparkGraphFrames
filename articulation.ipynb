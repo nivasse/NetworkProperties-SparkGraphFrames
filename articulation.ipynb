{
 "cells": [
  {
   "cell_type": "code",
   "execution_count": 1,
   "metadata": {
    "collapsed": true
   },
   "outputs": [],
   "source": [
    "import networkx as nx\n",
    "import matplotlib.pyplot as plt\n",
    "import numpy as np\n",
    "import re\n",
    "from graphframes import *\n",
    "from pyspark.sql import SQLContext\n",
    "from pyspark.sql.functions import *"
   ]
  },
  {
   "cell_type": "code",
   "execution_count": 7,
   "metadata": {
    "collapsed": true
   },
   "outputs": [],
   "source": [
    "from IPython.display import display, HTML"
   ]
  },
  {
   "cell_type": "code",
   "execution_count": 2,
   "metadata": {
    "collapsed": true
   },
   "outputs": [],
   "source": [
    "sqlContext = SQLContext(sc)"
   ]
  },
  {
   "cell_type": "code",
   "execution_count": null,
   "metadata": {
    "collapsed": false,
    "scrolled": false
   },
   "outputs": [
    {
     "name": "stdout",
     "output_type": "stream",
     "text": [
      "1\n",
      "2\n",
      "3\n",
      "4\n",
      "5\n",
      "1\n",
      "2\n",
      "3\n",
      "4\n",
      "5\n",
      "1\n",
      "2\n",
      "3\n",
      "4\n",
      "5\n",
      "1\n",
      "2\n",
      "3\n",
      "4\n"
     ]
    }
   ],
   "source": [
    "path_to_graph='./9_11_edgelist.txt'\n",
    "def articulation(path_to_graph):\n",
    "    with open(path_to_graph) as f:\n",
    "        lines=f.readlines()\n",
    "    #converting file to nodes and edges in rdd\n",
    "    rdd_lines= sc.parallelize(lines)\n",
    "    rdd_nodes = rdd_lines.flatMap(lambda x: re.split(',',x.strip())).distinct().map(lambda x: (x,))\n",
    "    rdd_edges = rdd_lines.map(lambda x: tuple(re.split(',',x.strip())))\n",
    "    #print rdd_edges.collect()\n",
    "    #print rdd_nodes.collect()\n",
    "    \n",
    "    #converting rdd to dataframe\n",
    "    df_nodes = sqlContext.createDataFrame(rdd_nodes, ['id'])\n",
    "    df_edges = sqlContext.createDataFrame(rdd_edges, ['src', 'dst'])\n",
    "    \n",
    "    #Initializing graphframe\n",
    "    graph = GraphFrame(df_nodes, df_edges)\n",
    "    graph_connectedcomponents_len = len(graph.connectedComponents().groupBy('component').count().collect())\n",
    "    \n",
    "    nodes = graph.vertices\n",
    "    edges = graph.edges\n",
    "\n",
    "    articulation_table_list = []\n",
    "    for n in nodes.flatMap(lambda x:x).collect():\n",
    "        print(\"1\")\n",
    "        nodes_nremoved = nodes.filter(nodes['id'] != n)\n",
    "        print(\"2\")\n",
    "        edges_nremoved = edges.filter(edges['src'] != n).filter(edges['dst'] != n)\n",
    "        print(\"3\")\n",
    "        graph_nremoved = GraphFrame(nodes_nremoved,edges_nremoved)\n",
    "        print(\"4\")\n",
    "        graph_nremoved_conncomps_len = len(graph_nremoved.connectedComponents().groupBy('component').count().collect())\n",
    "        print(\"5\")\n",
    "        articulation_table_list.append([n, graph_nremoved_conncomps_len>graph_connectedcomponents_len])\n",
    "    articulation_table = sqlContext.createDataFrame(articulation_table_list, ['id', 'articulation'])\n",
    "    return articulation_table\n",
    "       \n",
    "        \n",
    "answer = articulation(path_to_graph)   \n",
    "answer"
   ]
  },
  {
   "cell_type": "code",
   "execution_count": 18,
   "metadata": {
    "collapsed": false
   },
   "outputs": [
    {
     "data": {
      "text/plain": [
       "[]"
      ]
     },
     "execution_count": 18,
     "metadata": {},
     "output_type": "execute_result"
    }
   ],
   "source": [
    "answer[answer['articulation']==True].head(50)"
   ]
  },
  {
   "cell_type": "code",
   "execution_count": null,
   "metadata": {
    "collapsed": true
   },
   "outputs": [],
   "source": []
  }
 ],
 "metadata": {
  "kernelspec": {
   "display_name": "Python 2",
   "language": "python",
   "name": "python2"
  },
  "language_info": {
   "codemirror_mode": {
    "name": "ipython",
    "version": 2
   },
   "file_extension": ".py",
   "mimetype": "text/x-python",
   "name": "python",
   "nbconvert_exporter": "python",
   "pygments_lexer": "ipython2",
   "version": "2.7.11"
  }
 },
 "nbformat": 4,
 "nbformat_minor": 0
}
